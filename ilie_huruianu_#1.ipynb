{
 "cells": [
  {
   "cell_type": "code",
   "execution_count": 7,
   "metadata": {},
   "outputs": [],
   "source": [
    "# 2\n",
    "nume = \"Ilie\"\n",
    "\n",
    "prenume = \"Huruianu\"\n",
    "\n"
   ]
  },
  {
   "cell_type": "code",
   "execution_count": 8,
   "metadata": {},
   "outputs": [
    {
     "name": "stdout",
     "output_type": "stream",
     "text": [
      "Ilie Huruianu\n"
     ]
    }
   ],
   "source": [
    "# 3\n",
    "print(nume, prenume)"
   ]
  },
  {
   "cell_type": "code",
   "execution_count": 9,
   "metadata": {},
   "outputs": [],
   "source": [
    "# 4\n",
    "a = int(input(\"numar\"))\n",
    "\n",
    "b = int(input(\"numar\"))"
   ]
  },
  {
   "cell_type": "code",
   "execution_count": 10,
   "metadata": {},
   "outputs": [
    {
     "name": "stdout",
     "output_type": "stream",
     "text": [
      "10\n",
      "6\n",
      "16\n"
     ]
    }
   ],
   "source": [
    "# 5 \n",
    "c = a + b\n",
    "# 6 \n",
    "d = b - a\n",
    "# 7\n",
    "u = a*b\n",
    "\n",
    "print(c)\n",
    "print(d)\n",
    "print(u)"
   ]
  },
  {
   "cell_type": "code",
   "execution_count": 11,
   "metadata": {},
   "outputs": [
    {
     "name": "stdout",
     "output_type": "stream",
     "text": [
      "Ilie\n",
      "Ilie\n",
      "Huruianu\n",
      "Huruianu\n",
      "Huruianu\n",
      "Huruianu\n",
      "Huruianu\n",
      "Huruianu\n",
      "Huruianu\n",
      "Huruianu\n"
     ]
    }
   ],
   "source": [
    "# 8\n",
    "for i in range(a):\n",
    "    print(nume)\n",
    "# 9\n",
    "for e in range(b):\n",
    "    print(prenume)"
   ]
  },
  {
   "cell_type": "code",
   "execution_count": 12,
   "metadata": {},
   "outputs": [
    {
     "name": "stdout",
     "output_type": "stream",
     "text": [
      "2\n",
      "0\n"
     ]
    }
   ],
   "source": [
    "# 10 / 11\n",
    "o = a%b\n",
    "p = b%a\n",
    "print(o)\n",
    "print(p)"
   ]
  },
  {
   "cell_type": "code",
   "execution_count": 13,
   "metadata": {},
   "outputs": [
    {
     "name": "stdout",
     "output_type": "stream",
     "text": [
      "0\n"
     ]
    }
   ],
   "source": [
    "# 12\n",
    "h = c // 144\n",
    "\n",
    "print(h)"
   ]
  },
  {
   "cell_type": "code",
   "execution_count": 14,
   "metadata": {},
   "outputs": [],
   "source": [
    "# 13 / 14 / 15 / 16 / 17 / 18 / 19 / 20 / 21\n",
    "text = input(\"\")"
   ]
  },
  {
   "cell_type": "code",
   "execution_count": 15,
   "metadata": {},
   "outputs": [
    {
     "name": "stdout",
     "output_type": "stream",
     "text": [
      "Ant\n",
      "serj\n",
      "tnAjres\n",
      "Ajr\n",
      "7\n",
      "SERJANT\n",
      "serjAnt\n"
     ]
    }
   ],
   "source": [
    "print(text[-3::])\n",
    "\n",
    "print(text[0:4])\n",
    "\n",
    "print(text[::-1])\n",
    "\n",
    "a = len(text)\n",
    "text_inversat = text[-1::-1]\n",
    "if a%2 == 0:\n",
    "    print(text_inversat[len(text)//2-1:len(text)//2+2])\n",
    "else:\n",
    "    print(text_inversat[len(text)//2-1:len(text)//2+2])\n",
    "\n",
    "print(a)\n",
    "\n",
    "print(text.upper())\n",
    "\n",
    "replaced_text = text.replace(\"a\", \"*\")\n",
    "print(replaced_text)\n"
   ]
  },
  {
   "cell_type": "code",
   "execution_count": 16,
   "metadata": {},
   "outputs": [
    {
     "name": "stdout",
     "output_type": "stream",
     "text": [
      "textul nu contine un numar\n"
     ]
    }
   ],
   "source": [
    "# 22\n",
    "w = 0\n",
    "for i in text:\n",
    "    for j in range(10):\n",
    "        if str(j) == i:\n",
    "            w = 1\n",
    "if w == 1:\n",
    "    print(\"textul contine un numar\")\n",
    "else:\n",
    "    print(\"textul nu contine un numar\")\n"
   ]
  },
  {
   "cell_type": "code",
   "execution_count": 17,
   "metadata": {},
   "outputs": [
    {
     "name": "stdout",
     "output_type": "stream",
     "text": [
      "serjAntIlieHuruianu\n"
     ]
    }
   ],
   "source": [
    "# 23\n",
    "conectare = nume+prenume\n",
    "text_deplin = text\n",
    "print(text_deplin+conectare)"
   ]
  },
  {
   "cell_type": "code",
   "execution_count": 18,
   "metadata": {},
   "outputs": [
    {
     "name": "stdout",
     "output_type": "stream",
     "text": [
      "nu se termina cu end\n",
      "text nu are indice ana\n"
     ]
    }
   ],
   "source": [
    "# 24 / 25 \n",
    "\n",
    "end = text[text.find(\"end\"):text.find(\"end\")+3]\n",
    "if end == text[-3:]:\n",
    "    print(\"textul se termina cu end\")\n",
    "else:\n",
    "    print(\"nu se termina cu end\")\n",
    "\n",
    "\n",
    "indice = \"ana\"\n",
    "if indice == text[text.find(\"ana\") : text.find(\"ana\")+3]:\n",
    "    print(\"indicele de la care se incepe ana este \",text[text.find(\"ana\")-1])\n",
    "else:\n",
    "    print(\"text nu are indice ana\")\n"
   ]
  },
  {
   "cell_type": "code",
   "execution_count": 19,
   "metadata": {},
   "outputs": [
    {
     "name": "stdout",
     "output_type": "stream",
     "text": [
      "a e mai mic decat b\n"
     ]
    }
   ],
   "source": [
    "# 26\n",
    "if a>b:\n",
    "    print(\"a e mai mare ca b\")\n",
    "elif a<b:\n",
    "    print(\"a e mai mic decat b\")\n",
    "else:\n",
    "    print(\"a este egal cu b\")"
   ]
  },
  {
   "cell_type": "code",
   "execution_count": 20,
   "metadata": {},
   "outputs": [
    {
     "name": "stdout",
     "output_type": "stream",
     "text": [
      "7\n"
     ]
    }
   ],
   "source": [
    "# 27\n",
    "if (a+b)%2 == 0:\n",
    "    print(\"a+b e un numar par\")  \n",
    "print((a+b)//2)"
   ]
  },
  {
   "cell_type": "code",
   "execution_count": 21,
   "metadata": {},
   "outputs": [
    {
     "name": "stdout",
     "output_type": "stream",
     "text": [
      "a este pozitiv\n"
     ]
    }
   ],
   "source": [
    "# 28\n",
    "if a > 0:\n",
    "    print(\"a este pozitiv\")\n",
    "elif a <= 0:\n",
    "    print(\"a este negativ/neutru\")"
   ]
  },
  {
   "cell_type": "code",
   "execution_count": 22,
   "metadata": {},
   "outputs": [
    {
     "name": "stdout",
     "output_type": "stream",
     "text": [
      "a este in intervalul 1-10\n"
     ]
    }
   ],
   "source": [
    "# 29\n",
    "if a >= 1 and a<=10:\n",
    "    print(\"a este in intervalul 1-10\")\n",
    "elif a >= 11 and a<=20:\n",
    "    print(\"a este in intervalul 11-20\")\n",
    "elif a > 21:\n",
    "    print(\"a este mai mare decat 20\")"
   ]
  },
  {
   "cell_type": "code",
   "execution_count": 23,
   "metadata": {},
   "outputs": [
    {
     "name": "stdout",
     "output_type": "stream",
     "text": [
      "textul nu contine hello si are o lungime mai mica ca 10\n"
     ]
    }
   ],
   "source": [
    "# 30\n",
    "if  \"hello\" == text[text.find(\"hello\"):text.find(\"hello\")+5] and len(text)>10:\n",
    "    print(\"textul contine hello si are o lungime mai mare decât 10\")\n",
    "else:\n",
    "    print(\"textul nu contine hello si are o lungime mai mica ca 10\")"
   ]
  },
  {
   "cell_type": "code",
   "execution_count": 24,
   "metadata": {},
   "outputs": [
    {
     "name": "stdout",
     "output_type": "stream",
     "text": [
      "a nu este multiplul lui b\n"
     ]
    }
   ],
   "source": [
    "# 31\n",
    "if a%b == 0:\n",
    "    print(\"a este multiplul al lui b\")\n",
    "else:\n",
    "    print(\"a nu este multiplul lui b\")"
   ]
  },
  {
   "cell_type": "code",
   "execution_count": 25,
   "metadata": {},
   "outputs": [
    {
     "name": "stdout",
     "output_type": "stream",
     "text": [
      "noapte buna\n"
     ]
    }
   ],
   "source": [
    "# 32\n",
    "ora = range(25)\n",
    "i = int(input (\"introdu ora zilei\"))\n",
    "ora = ora[i]\n",
    "if ora >= 0 and ora<= 8:\n",
    "    print(\"buna dimineata\")\n",
    "elif ora >= 9 and ora<= 16:\n",
    "    print(\"buna ziua\")\n",
    "elif ora >= 17 and ora<= 20:\n",
    "    print(\"buna seara\")\n",
    "elif ora >= 21 and ora<= 24:\n",
    "    print(\"noapte buna\")"
   ]
  },
  {
   "cell_type": "code",
   "execution_count": 26,
   "metadata": {},
   "outputs": [],
   "source": [
    "# 33\n",
    "if a%2 == 0 and a%3 == 0:\n",
    "    print(\"a este divizibil cu 2 si 3 simultan\")\n",
    "    print(\"a/2=\",a/2)\n",
    "    print(\"a/3=\",a/3)"
   ]
  },
  {
   "cell_type": "code",
   "execution_count": 27,
   "metadata": {},
   "outputs": [
    {
     "name": "stdout",
     "output_type": "stream",
     "text": [
      "Totul funcționează perfect!\n"
     ]
    }
   ],
   "source": [
    "# 34\n",
    "if  \"error\" == text[text.find(\"error\"):text.find(\"error\")+5]:\n",
    "    print(\"Trebuie să verificăm codul!\")\n",
    "else:\n",
    "    print(\"Totul funcționează perfect!\")"
   ]
  },
  {
   "cell_type": "code",
   "execution_count": 28,
   "metadata": {},
   "outputs": [
    {
     "name": "stdout",
     "output_type": "stream",
     "text": [
      "nume+prenume e mai lung decat text\n"
     ]
    }
   ],
   "source": [
    "# 35\n",
    "if len(text)>len(nume+prenume):\n",
    "    print(\"tex e mai lung decat nume+prenume\")\n",
    "elif len(text)<len(nume+prenume):\n",
    "    print(\"nume+prenume e mai lung decat text\")\n",
    "else:\n",
    "    print(\"text si nume+prenume sunt egale\")"
   ]
  },
  {
   "cell_type": "code",
   "execution_count": 29,
   "metadata": {},
   "outputs": [
    {
     "name": "stdout",
     "output_type": "stream",
     "text": [
      "excelent\n"
     ]
    }
   ],
   "source": [
    "# 36\n",
    "nota = range(11)\n",
    "i = int(input(\"introdu nota pana la 10\"))\n",
    "nota = nota[i]\n",
    "if nota>=9:\n",
    "    print(\"excelent\")\n",
    "elif nota>=7:\n",
    "    print(\"bine\")\n",
    "elif nota>=5:\n",
    "    print(\"suficient\")\n",
    "else:\n",
    "    print(\"insuficient\")"
   ]
  },
  {
   "cell_type": "code",
   "execution_count": 30,
   "metadata": {},
   "outputs": [
    {
     "name": "stdout",
     "output_type": "stream",
     "text": [
      "a este in intervalul de la 0 spre b(inclusiv)\n"
     ]
    }
   ],
   "source": [
    "# 37\n",
    "for i in range(b+1):\n",
    "    if i == a:\n",
    "        print(\"a este in intervalul de la 0 spre b(inclusiv)\")"
   ]
  },
  {
   "cell_type": "code",
   "execution_count": 31,
   "metadata": {},
   "outputs": [],
   "source": [
    "# 38\n",
    "if a %3 == 0 and a%5 == 0:\n",
    "    print(\"FizzBuzz\")\n",
    "elif a% 3 ==0:\n",
    "    print(\"Fizz\")\n",
    "elif a%5==0:\n",
    "    print(\"Buzz\")"
   ]
  },
  {
   "cell_type": "code",
   "execution_count": 32,
   "metadata": {},
   "outputs": [
    {
     "name": "stdout",
     "output_type": "stream",
     "text": [
      "An normal\n"
     ]
    }
   ],
   "source": [
    "# 39\n",
    "if a%4==0 and a%100>=1:\n",
    "    print(\"An bisect\")\n",
    "elif a % 400 == 0:\n",
    "    print(\"An bisect\")\n",
    "else:\n",
    "    print(\"An normal\") "
   ]
  },
  {
   "cell_type": "code",
   "execution_count": 33,
   "metadata": {},
   "outputs": [
    {
     "name": "stdout",
     "output_type": "stream",
     "text": [
      "[1, 2, 3, 4, 5, 6, 7, 8, 9, 10]\n",
      "[10, 9, 8, 7, 6, 5, 4, 3, 2, 1]\n",
      "[20, 18, 16, 14, 12, 10, 8, 6, 4, 2]\n",
      "[1, 2, 3, 4, 5]\n"
     ]
    }
   ],
   "source": [
    "# 40\n",
    "nr1 = [1,2,3,4,5,6,7,8,9,10]\n",
    "print(nr1)\n",
    "\n",
    "# 41\n",
    "print(nr1[-1::-1])\n",
    "\n",
    "# 42\n",
    "nr1 = nr1+[11,12,13,14,15,16,17,18,19,20]\n",
    "print(nr1[::-2])\n",
    "\n",
    "# 43\n",
    "nr2 = nr1[:5]\n",
    "print(nr2)\n"
   ]
  },
  {
   "cell_type": "code",
   "execution_count": 34,
   "metadata": {},
   "outputs": [
    {
     "name": "stdout",
     "output_type": "stream",
     "text": [
      "[1, 2, 3, 4, 6, 7, 8, 9, 10, 11, 12, 13, 14, 15, 16, 17, 18, 19, 20]\n",
      "1,0\n",
      "2,1\n",
      "3,2\n",
      "4,3\n",
      "6,5\n",
      "7,6\n",
      "8,7\n",
      "9,8\n",
      "10,9\n",
      "11,10\n",
      "12,11\n",
      "13,12\n",
      "14,13\n",
      "15,14\n",
      "16,15\n",
      "17,16\n",
      "18,17\n",
      "19,18\n",
      "20,19\n",
      "[20, 19, 18, 17, 16, 15, 14, 13, 12, 11, 10, 9, 8, 7, 6, 4, 3, 2, 1]\n"
     ]
    }
   ],
   "source": [
    "# 44\n",
    "nr1 = nr1[0:4]+nr1[5:]\n",
    "print(nr1)\n",
    "\n",
    "# 45\n",
    "for i in nr1:\n",
    "    print(f\"{i},{i-1}\")\n",
    "\n",
    "# 46\n",
    "print(nr1[-1::-1])"
   ]
  },
  {
   "cell_type": "code",
   "execution_count": 35,
   "metadata": {},
   "outputs": [
    {
     "name": "stdout",
     "output_type": "stream",
     "text": [
      "sunt numere tastate de la tastatura\n",
      "sunt numere tastate de la tastatura\n",
      "sunt numere tastate de la tastatura\n",
      "sunt numere tastate de la tastatura\n",
      "sunt numere tastate de la tastatura\n",
      "[1, 2, 3, 4, 6, 7, 8, 9, 10, 11, 12, 13, 14, 15, 16, 17, 18, 19, 20, '1', '2', '3', '4', '4']\n"
     ]
    }
   ],
   "source": [
    "# 47\n",
    "elemente_noi = list(input(\"introdu 5 elemente noi\"))\n",
    "for i in range(10):\n",
    "    for k in elemente_noi:\n",
    "        if str(i) == k:\n",
    "            print(\"sunt numere tastate de la tastatura\")\n",
    "nr1 = nr1 + elemente_noi\n",
    "print(nr1)"
   ]
  },
  {
   "cell_type": "code",
   "execution_count": 36,
   "metadata": {},
   "outputs": [],
   "source": [
    "# 48\n",
    "while nr1[0]<= 50:\n",
    "  for i in range(len(nr1)):\n",
    "    nr1[i]=nr1[i]*2"
   ]
  },
  {
   "cell_type": "code",
   "execution_count": 37,
   "metadata": {},
   "outputs": [
    {
     "name": "stdout",
     "output_type": "stream",
     "text": [
      "['4444444444444444444444444444444444444444444444444444444444444444', '4444444444444444444444444444444444444444444444444444444444444444', '3333333333333333333333333333333333333333333333333333333333333333', '2222222222222222222222222222222222222222222222222222222222222222', '1111111111111111111111111111111111111111111111111111111111111111', 1280, 1216, 1152, 1088, 1024, 960, 896, 832, 768, 704, 640, 576, 512, 448, 384, 256, 192, 128, 64]\n",
      "[64, 128, 192, 256, 384, 448, 512, 576, 640, 704, 768, 832, 896, 960, 1024, 1088, 1152, 1216, 1280, '1111111111111111111111111111111111111111111111111111111111111111', '2222222222222222222222222222222222222222222222222222222222222222', '3333333333333333333333333333333333333333333333333333333333333333', '4444444444444444444444444444444444444444444444444444444444444444', '4444444444444444444444444444444444444444444444444444444444444444']\n"
     ]
    }
   ],
   "source": [
    "# 49\n",
    "nr1 = nr1[-1::-1]\n",
    "print(nr1)\n",
    "nr1 = nr1[-1::-1]\n",
    "print(nr1)"
   ]
  },
  {
   "cell_type": "code",
   "execution_count": 38,
   "metadata": {},
   "outputs": [
    {
     "name": "stdout",
     "output_type": "stream",
     "text": [
      "['1', '4', '9', '16', '25', '36', '49', '64', '81', '100']\n",
      "['1', '9', '25', '49', '81']\n"
     ]
    }
   ],
   "source": [
    "n = []\n",
    "\n",
    "for i in range(101):\n",
    "    for k in range(1,11):\n",
    "        i = int(i)\n",
    "        k = int(k)\n",
    "        if i**(1/2)/k == 1:\n",
    "            i = str(i)\n",
    "            n =n+list([i])\n",
    "print(n)\n",
    "\n",
    "# 51\n",
    "print(n[0:len(n):+2])"
   ]
  },
  {
   "cell_type": "code",
   "execution_count": 39,
   "metadata": {},
   "outputs": [
    {
     "name": "stdout",
     "output_type": "stream",
     "text": [
      "1\n",
      "1\n",
      "2\n",
      "2\n",
      "3\n",
      "6\n",
      "8\n",
      "8\n"
     ]
    }
   ],
   "source": [
    "# 52\n",
    "lista5 = list(input())\n",
    "for i in range(11):\n",
    "    for k in lista5:\n",
    "        if str(i) == k:\n",
    "            print(i)"
   ]
  },
  {
   "cell_type": "code",
   "execution_count": 40,
   "metadata": {},
   "outputs": [
    {
     "name": "stdout",
     "output_type": "stream",
     "text": [
      "lista e palindrom\n",
      "0\n",
      "7\n",
      "14\n",
      "21\n",
      "28\n",
      "35\n",
      "42\n",
      "49\n",
      "56\n",
      "63\n",
      "70\n"
     ]
    }
   ],
   "source": [
    "# 53\n",
    "lista = list(input(\" \"))\n",
    "if lista == lista[-1::-1]:\n",
    "    print(\"lista e palindrom\")\n",
    "else:\n",
    "    print(\"lista nu e palindrom\")\n",
    "\n",
    "# 54\n",
    "for i in range(11):\n",
    "    print(i*7)"
   ]
  },
  {
   "cell_type": "code",
   "execution_count": 41,
   "metadata": {},
   "outputs": [
    {
     "name": "stdout",
     "output_type": "stream",
     "text": [
      "[[1, 1], [1, 2], [1, 3], [1, 4], [1, 5], [2, 1], [2, 2], [2, 3], [2, 4], [2, 5], [3, 1], [3, 2], [3, 3], [3, 4], [3, 5], [4, 1], [4, 2], [4, 3], [4, 4], [4, 5], [5, 1], [5, 2], [5, 3], [5, 4], [5, 5]]\n",
      "[1, 2]\n",
      "[1, 3]\n",
      "[1, 4]\n",
      "[1, 5]\n",
      "[2, 3]\n",
      "[2, 4]\n",
      "[2, 5]\n",
      "[3, 4]\n",
      "[3, 5]\n",
      "[4, 5]\n"
     ]
    }
   ],
   "source": [
    "# 55\n",
    "lista = [[1,1],[1,2],[1,3],[1,4],[1,5],[2,1],[2,2],[2,3],[2,4],[2,5],[3,1],[3,2],[3,3],[3,4],[3,5],[4,1],[4,2],[4,3],[4,4],[4,5],[5,1],[5,2],[5,3],[5,4],[5,5]]\n",
    "print(lista)\n",
    "\n",
    "# 56\n",
    "for k in lista:\n",
    "    if k[0]<k[1]:\n",
    "        print(k)\n"
   ]
  },
  {
   "cell_type": "code",
   "execution_count": 42,
   "metadata": {},
   "outputs": [
    {
     "name": "stdout",
     "output_type": "stream",
     "text": [
      "['2', '3']\n",
      "[1, 1]\n"
     ]
    }
   ],
   "source": [
    "# 57\n",
    "q = int(input(\"Cate stringuri sunt in lista?\"))\n",
    "lista = []\n",
    "for i in range(q):\n",
    "    i = str(input())\n",
    "    lista = lista + [i]\n",
    "print(lista)\n",
    "for j in range(q):\n",
    "    lista[j]= len(lista[j])\n",
    "\n",
    "print(lista)\n",
    "    "
   ]
  },
  {
   "cell_type": "code",
   "execution_count": 43,
   "metadata": {},
   "outputs": [
    {
     "name": "stdout",
     "output_type": "stream",
     "text": [
      "Nu există valori mai mari decât 10\n"
     ]
    }
   ],
   "source": [
    "# 58\n",
    "q = int(input(\"Cate numere sunt in lista?\"))\n",
    "lista = []\n",
    "for i in range(q):\n",
    "    i = int(input())\n",
    "    lista = lista + [i]\n",
    "\n",
    "j = 0\n",
    "while j<q:\n",
    "    k = lista[j]\n",
    "    j +=1\n",
    "    if k>10:\n",
    "        print(k)\n",
    "        j = 10\n",
    "    elif j==q:\n",
    "        print(\"Nu există valori mai mari decât 10\")\n",
    "        j = 10"
   ]
  },
  {
   "cell_type": "code",
   "execution_count": 44,
   "metadata": {},
   "outputs": [
    {
     "name": "stdout",
     "output_type": "stream",
     "text": [
      "Elementul nu exista\n"
     ]
    }
   ],
   "source": [
    "# 59\n",
    "q = int(input(\"Cate stringuri sunt in lista?\"))\n",
    "lista = []\n",
    "for i in range(q):\n",
    "    i = str(input())\n",
    "    lista = lista + [i]\n",
    "\n",
    "elementul_dorit= str(input(\"Introdu elementul pe care il doresti sal gasesti\"))\n",
    "\n",
    "l = 0\n",
    "k = 0\n",
    "for j in lista:\n",
    "   if l ==0: \n",
    "    if j == elementul_dorit:\n",
    "        print(\"Elementul exista\")\n",
    "        l = 1\n",
    "    elif k < q-1:\n",
    "        print(end=\"\")\n",
    "        k +=1\n",
    "    else:\n",
    "      print(\"Elementul nu exista\")"
   ]
  },
  {
   "cell_type": "code",
   "execution_count": 48,
   "metadata": {},
   "outputs": [
    {
     "name": "stdout",
     "output_type": "stream",
     "text": [
      "*****\n",
      "*   *\n",
      "*   *\n",
      "*   *\n",
      "*****"
     ]
    }
   ],
   "source": [
    "# 60\n",
    "latura = int(input(\"Introdu marimia laturii patratului\"))\n",
    "\n",
    "for i in range(latura):\n",
    "    print(\"*\",end=\"\")\n",
    "print()\n",
    "\n",
    "for i in range(latura-2):\n",
    "    print(\"*\",end=\"\")\n",
    "    for i in range(latura-2):\n",
    "        print(end=\" \")\n",
    "    print(\"*\")\n",
    "for i in range(latura):\n",
    "    print(\"*\",end=\"\")"
   ]
  },
  {
   "cell_type": "code",
   "execution_count": 50,
   "metadata": {},
   "outputs": [
    {
     "name": "stdout",
     "output_type": "stream",
     "text": [
      "\n",
      "1\n",
      "12\n",
      "123\n",
      "1234\n",
      "12345\n",
      "123456\n"
     ]
    }
   ],
   "source": [
    "# 61 A1\n",
    "for j in range(7):\n",
    "  for i in range(j):\n",
    "    print(i+1,end=\"\")\n",
    "  print()"
   ]
  },
  {
   "cell_type": "code",
   "execution_count": 51,
   "metadata": {},
   "outputs": [
    {
     "name": "stdout",
     "output_type": "stream",
     "text": [
      "54321\n",
      "5432\n",
      "543\n",
      "54\n",
      "5\n"
     ]
    }
   ],
   "source": [
    "# 61 A2\n",
    "linie = [5,4,3,2,1]\n",
    "\n",
    "for j in linie:\n",
    "  for i in linie[0:j]:\n",
    "     print(i,end=\"\")\n",
    "  print()"
   ]
  },
  {
   "cell_type": "code",
   "execution_count": 52,
   "metadata": {},
   "outputs": [
    {
     "name": "stdout",
     "output_type": "stream",
     "text": [
      "abcdefg\n",
      "bcdefg\n",
      "cdefg\n",
      "defg\n",
      "efg\n",
      "fg\n",
      "g\n"
     ]
    }
   ],
   "source": [
    "# 61 A3\n",
    "linie = [\"a\",\"b\",\"c\",\"d\",\"e\",\"f\",\"g\"]\n",
    "\n",
    "for j in range(7):\n",
    "  for i in linie[j::]:\n",
    "     print(i,end=\"\")\n",
    "  print()"
   ]
  },
  {
   "cell_type": "code",
   "execution_count": 53,
   "metadata": {},
   "outputs": [
    {
     "name": "stdout",
     "output_type": "stream",
     "text": [
      "+-+-+-+-+-+-+-+-\n",
      "-+-+-+-+-+-+-+-+\n",
      "+-+-+-+-+-+-+-+-\n",
      "-+-+-+-+-+-+-+-+\n",
      "+-+-+-+-+-+-+-+-\n",
      "-+-+-+-+-+-+-+-+\n",
      "+-+-+-+-+-+-+-+-\n",
      "-+-+-+-+-+-+-+-+\n"
     ]
    }
   ],
   "source": [
    "# 61 A4\n",
    "for k in range(4):\n",
    "    for i in range(8):\n",
    "      print(\"+-\",end=\"\")\n",
    "    print()\n",
    "    for l in range(8):\n",
    "      print(\"-+\",end=\"\")\n",
    "    print()\n"
   ]
  },
  {
   "cell_type": "code",
   "execution_count": 54,
   "metadata": {},
   "outputs": [
    {
     "name": "stdout",
     "output_type": "stream",
     "text": [
      "\n",
      "3 \n",
      "3 9 \n",
      "3 9 27 \n",
      "3 9 27 81 \n",
      "3 9 27 81 243 \n",
      "3 9 27 81 \n",
      "3 9 27 \n",
      "3 9 \n",
      "3 \n",
      "\n",
      "\n"
     ]
    }
   ],
   "source": [
    "# 61 A5\n",
    "cifre = [3,9,27,81,243]\n",
    "\n",
    "for j in range(6):\n",
    "    for i in range(j):\n",
    "     print(cifre[i],end=\" \")\n",
    "    print()\n",
    "for j in range(6):\n",
    "    for i in range(4-j):\n",
    "     print(cifre[i],end=\" \")\n",
    "    print()"
   ]
  },
  {
   "cell_type": "code",
   "execution_count": 57,
   "metadata": {},
   "outputs": [
    {
     "name": "stdout",
     "output_type": "stream",
     "text": [
      "      \n",
      "     **\n",
      "    ****\n",
      "   ******\n",
      "  ********\n",
      " **********\n",
      "None\n"
     ]
    }
   ],
   "source": [
    "# 62\n",
    "def print_pyramid(n):\n",
    "    \"\"\"\n",
    "    Funcție care construeste o piramidă\n",
    "\n",
    "    Args:\n",
    "        n [int] :  inaltimea piarmidei\n",
    "\n",
    "    Returns:\n",
    "        o piramida \n",
    "    \"\"\"\n",
    "    n +=1\n",
    "    l = n\n",
    "\n",
    "    for i in range(n):\n",
    "        for k in range(l):\n",
    "           print(end=\" \")\n",
    "        for j in range(i):\n",
    "           print(\"**\",end=\"\")\n",
    "        print()\n",
    "        l -=1\n",
    "\n",
    "n = int(input(\"\"))\n",
    "print(print_pyramid(n))"
   ]
  },
  {
   "cell_type": "code",
   "execution_count": 58,
   "metadata": {},
   "outputs": [
    {
     "name": "stdout",
     "output_type": "stream",
     "text": [
      "numarul e prim\n",
      "None\n"
     ]
    }
   ],
   "source": [
    "# 63\n",
    "numere = int(input())\n",
    "def numar_prim(i):\n",
    "   \"\"\"\n",
    "   Aceasta functie combina doua liste si returneza o lista noua\n",
    "\n",
    "   Args:\n",
    "      lista1(list) : prima lista de combinat.\n",
    "      lista2(list) : a doua lista de combinat.\n",
    "\n",
    "   Retrns:\n",
    "      o lista ce contine lista1 si lista2\n",
    "   Raises:\n",
    "\n",
    "   \"\"\"\n",
    "\n",
    "\n",
    "   if i > 1: \n",
    "      if i == 2:\n",
    "          print(\"numarul e prim\")\n",
    "      else:\n",
    "         if i == 3:\n",
    "             print(\"numarul e prim\")\n",
    "         else:\n",
    "             if i%2 == 0 or i%3==0:\n",
    "               print(\"numarul nu e prim\")\n",
    "             else:\n",
    "               print(\"numarul e prim\")\n",
    "   else:\n",
    "      print(\"numarul nu e prim\")\n",
    "\n",
    "print(numar_prim(numere))"
   ]
  },
  {
   "cell_type": "code",
   "execution_count": 59,
   "metadata": {},
   "outputs": [
    {
     "name": "stdout",
     "output_type": "stream",
     "text": [
      "['5', '6', '5', '4', '6', '3', '3', '5', '2', 'a', 'd', 'h', ' ', '7', '8', '1', '2', '3', '6', '1']\n"
     ]
    }
   ],
   "source": [
    "# 64\n",
    "def merge_list(lista1,lista2):\n",
    "    \"\"\"\n",
    "    Aceasta functie combina doua liste si returneza o lista noua\n",
    "\n",
    "    Args:\n",
    "    lista1(list) : prima lista de combinat.\n",
    "    lista2(list) : a doua lista de combinat.\n",
    "\n",
    "    Retrns:\n",
    "        o lista ce contine lista1 si lista2\n",
    "    Raises:\n",
    "\n",
    "    \"\"\"\n",
    "    lista4 = []\n",
    "    lista4 = lista4+lista1+lista2\n",
    "    return lista4\n",
    "lista1 = list(input(\"\"))\n",
    "lista2 = list(input(\"\"))\n",
    "print(merge_list(lista1,lista2))"
   ]
  },
  {
   "cell_type": "code",
   "execution_count": 64,
   "metadata": {},
   "outputs": [
    {
     "name": "stdout",
     "output_type": "stream",
     "text": [
      "{'media': 9.0, 'mediana': ['9', '9'], 'modul': 144.0}\n"
     ]
    }
   ],
   "source": [
    "# 65\n",
    "def calculate_stats(lista_note):\n",
    "        \"\"\"\n",
    "    Funcție care  returnează un dicționar cu media, mediana și modul listei.\n",
    "\n",
    "    Args:\n",
    "        lista_note (lista[int]) :  lista ce contine toate numerele\n",
    "\n",
    "    Returns:\n",
    "        un dictionar ce contine media,mediana și modul listei.\n",
    "    \"\"\"\n",
    "        \n",
    "        \n",
    "        dictionar ={\n",
    "                \"media\":[],\n",
    "                \"mediana\":[],\n",
    "                \"modul\":[],\n",
    "        }\n",
    "        a = 0\n",
    "        m = 0\n",
    "        for i in lista:\n",
    "            i = int(i)\n",
    "            a= a + i\n",
    "            m += 1\n",
    "        dictionar[\"media\"]= a/m\n",
    "\n",
    "        if m % 2 ==0:\n",
    "              dictionar[\"mediana\"] = lista[m//2-1:m//2+1]\n",
    "        else:\n",
    "              dictionar[\"mediana\"] = lista[m//2]\n",
    "        a=a**2\n",
    "        a=a**(1/2)\n",
    "        dictionar[\"modul\"] = a\n",
    "        return dictionar\n",
    "        \n",
    "       \n",
    "\n",
    "\n",
    "\n",
    "\n",
    "lista = list(input(\"introduceti numerele\"))\n",
    "print(calculate_stats(lista))"
   ]
  },
  {
   "cell_type": "code",
   "execution_count": 69,
   "metadata": {},
   "outputs": [
    {
     "name": "stdout",
     "output_type": "stream",
     "text": [
      "2\n",
      "None\n"
     ]
    }
   ],
   "source": [
    "# 66\n",
    "n = int(input(\"\"))\n",
    "def fibonacci(n):\n",
    " \"\"\"\n",
    " Functia ce returneze al n-lea element din șirul lui Fibonacci, unde n este un parametru dat.\n",
    "\n",
    " Args:\n",
    " n(int): a catelea numar vrei sal iai din sirul lui Fibonacci\n",
    " \n",
    " Return:\n",
    " \n",
    " \"\"\"\n",
    "\n",
    "\n",
    " a = 1\n",
    " b = 1\n",
    " if n - 2 <=0:\n",
    "   c = 1\n",
    " else:\n",
    "    for i in range (n-2):\n",
    "     c = a+b\n",
    "     b = a\n",
    "     a =c \n",
    " print (c)\n",
    "print(fibonacci(n))\n",
    "    "
   ]
  },
  {
   "cell_type": "code",
   "execution_count": 68,
   "metadata": {},
   "outputs": [
    {
     "name": "stdout",
     "output_type": "stream",
     "text": [
      "{'2': 'a'}\n"
     ]
    }
   ],
   "source": [
    "# 67\n",
    "dictionar = {}\n",
    "nr_chei = int(input(\"cate chei ai in dictionar?\"))\n",
    "for i in range(nr_chei):\n",
    "    j = str(input(\"adauga numele cheii\"))\n",
    "    k = str(input(\"adauga valoarea cheii pe care ai scriso\"))\n",
    "    dictionar[j]=k\n",
    "\n",
    "def invert_dict(dictionar):\n",
    "     \"\"\"\n",
    "     Functie ce reurneza un dictionar care are inversate cheile cu valorile cheilor si invers\n",
    "\n",
    "     Args:\n",
    "        invert_dict (Dict): un dictionar ce contine chei si valorile acestora\n",
    "    \n",
    "     Returns:\n",
    "        un dictionar care are inversate cheile cu valorile cheilor si invers\n",
    "\n",
    "     \"\"\"\n",
    "\n",
    "     reverse_dict={}\n",
    "     for key, value in dictionar.items():\n",
    "        reverse_dict[value]=key\n",
    "     return reverse_dict\n",
    "\n",
    "print(invert_dict(dictionar))"
   ]
  },
  {
   "cell_type": "code",
   "execution_count": 70,
   "metadata": {},
   "outputs": [
    {
     "name": "stdout",
     "output_type": "stream",
     "text": [
      "{'4': 1}\n"
     ]
    }
   ],
   "source": [
    "# 68\n",
    "all_freq = {}\n",
    "test_str = str(input(\"\"))\n",
    "\n",
    "def unique_elements(test_str):\n",
    "    \"\"\"\n",
    "    Functie ce iti da un dictionar cu frecventa caracterelor din stringul dat\n",
    "\n",
    "    Args:\n",
    "        test_str(str): un string ce contine caractere\n",
    "    \n",
    "    Returns:\n",
    "        un dictionar cu frecventa caracterelor din stringul dat\n",
    "    \"\"\"\n",
    "    \n",
    "    all_freq = {}\n",
    "    n = 0\n",
    "    for i in test_str:\n",
    "        for j in test_str:\n",
    "            if i == j:\n",
    "                n+=1\n",
    "        all_freq[i]=n\n",
    "        n = 0\n",
    "    return(all_freq)\n",
    "\n",
    "print(unique_elements(test_str))\n"
   ]
  },
  {
   "cell_type": "code",
   "execution_count": 71,
   "metadata": {},
   "outputs": [
    {
     "name": "stdout",
     "output_type": "stream",
     "text": [
      "['a', '1']\n"
     ]
    }
   ],
   "source": [
    "# 69\n",
    "q = int(input(\"Cate stringuri sunt in lista?\"))\n",
    "lista = []\n",
    "for i in range(q):\n",
    "    i = str(input())\n",
    "    lista = lista + [i]\n",
    "\n",
    "def unique_elements(lista):\n",
    " lista2 =[0]\n",
    " lista3 = [0]\n",
    "\n",
    " k = 0\n",
    " b=0\n",
    " for j in lista:\n",
    "    for g in lista:\n",
    "        if j == g:\n",
    "            b+=1\n",
    "    if b == 1:\n",
    "        lista2[k]=j\n",
    "        k +=1\n",
    "        b = 0\n",
    "        lista2 = lista2+lista3\n",
    "    b = 0\n",
    " lista2 = lista2[0:k]\n",
    " return lista2\n",
    "\n",
    "print(unique_elements(lista))"
   ]
  },
  {
   "cell_type": "code",
   "execution_count": 74,
   "metadata": {},
   "outputs": [
    {
     "name": "stdout",
     "output_type": "stream",
     "text": [
      "['1', '0', '0', '0', '0', '0', '0', '0', '0', '0', '0', '0', '0', '0', '0', '0', '0', '0', '0', '0', '0', '0', '0', '0', '0', '0', '0', '0', '0', '0', '0', '0', '0', '0', '0', '0', '0', '0', '0', '0', '0', '0', '0', '0', '0', '0', '0', '0', '0', '0', '0', '0', '0', '0', '0', '0', '0', '0', '0', '0', '0', '0', '0', '0', '0', '0', '0', '0', '0', '0', '0', '0', '0', '0', '0', '0', '0', '0', '0', '0', '0', '0', '0', '0', '0', '0', '0', '0', '0', '0', '0', '0', '0', '0', '0', '0', '0', '0', '0', '0', '0', '0', '0', '0', '0', '0', '0', '0', '0', '0', '0', '0', '0', '0', '0', '0', '0', '0', '0', '0', '0', '0', '0', '0', '0', '0', '0', '0', '0', '0', '0', '0', '0', '0', '0', '0', '0', '0', '0', '0', '0', '0', '0', '0', '0', '0', '0', '0', '0', '0', '0', '0', '0', '0', '0', '0', '0', '0', '0', '0', '0', '0', '0', '0', '0', '0', '0', '0', '0', '0', '0', '0', '0', '0', '0', '0', '0', '0', '0', '0', '0', '0', '0', '0', '0', '0', '0', '0', '0', '0', '0', '0', '0', '0', '0', '0', '0', '0', '0', '0', '0', '0', '0', '0', '0']\n",
      "None\n"
     ]
    }
   ],
   "source": [
    "# 70\n",
    "lista1 = list(input())\n",
    "lista2 = list(input())\n",
    "def common_elements(lista1,lista2):\n",
    "\n",
    "    \"\"\"\n",
    "  Funcție care  returnează o lista cu elementele comune a celor 2 liste\n",
    "\n",
    "  Args:\n",
    "        lista1 (lista) :  lista ce continine elemente\n",
    "        lista2 (lista) :  lista ce continine elemente\n",
    "\n",
    "  Returns:\n",
    "      o lista cu elementele comune a celor 2 liste.\n",
    "  \"\"\"\n",
    "    \n",
    "    lista3 = []\n",
    "    for i in lista1:\n",
    "       for k in lista2:\n",
    "         if i==k:\n",
    "           lista3 = lista3 + list(i)\n",
    "    print(lista3)\n",
    "\n",
    "\n",
    "\n",
    "print(common_elements(lista1,lista2))\n"
   ]
  },
  {
   "cell_type": "code",
   "execution_count": null,
   "metadata": {},
   "outputs": [],
   "source": []
  }
 ],
 "metadata": {
  "kernelspec": {
   "display_name": "Python 3",
   "language": "python",
   "name": "python3"
  },
  "language_info": {
   "codemirror_mode": {
    "name": "ipython",
    "version": 3
   },
   "file_extension": ".py",
   "mimetype": "text/x-python",
   "name": "python",
   "nbconvert_exporter": "python",
   "pygments_lexer": "ipython3",
   "version": "3.12.1"
  }
 },
 "nbformat": 4,
 "nbformat_minor": 2
}
